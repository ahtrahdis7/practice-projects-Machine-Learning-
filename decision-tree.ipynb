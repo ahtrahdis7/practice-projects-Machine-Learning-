{
 "cells": [
  {
   "cell_type": "code",
   "execution_count": 39,
   "metadata": {},
   "outputs": [],
   "source": [
    "import pandas as pd\n",
    "import numpy as np\n",
    "import matplotlib.pyplot as plt\n",
    "%matplotlib inline"
   ]
  },
  {
   "cell_type": "code",
   "execution_count": 40,
   "metadata": {},
   "outputs": [],
   "source": [
    "train = pd.read_csv('train.csv')"
   ]
  },
  {
   "cell_type": "code",
   "execution_count": 41,
   "metadata": {},
   "outputs": [
    {
     "data": {
      "text/html": [
       "<div>\n",
       "<style scoped>\n",
       "    .dataframe tbody tr th:only-of-type {\n",
       "        vertical-align: middle;\n",
       "    }\n",
       "\n",
       "    .dataframe tbody tr th {\n",
       "        vertical-align: top;\n",
       "    }\n",
       "\n",
       "    .dataframe thead th {\n",
       "        text-align: right;\n",
       "    }\n",
       "</style>\n",
       "<table border=\"1\" class=\"dataframe\">\n",
       "  <thead>\n",
       "    <tr style=\"text-align: right;\">\n",
       "      <th></th>\n",
       "      <th>id</th>\n",
       "      <th>perc_premium_paid_by_cash_credit</th>\n",
       "      <th>age_in_days</th>\n",
       "      <th>Income</th>\n",
       "      <th>Count_3-6_months_late</th>\n",
       "      <th>Count_6-12_months_late</th>\n",
       "      <th>Count_more_than_12_months_late</th>\n",
       "      <th>application_underwriting_score</th>\n",
       "      <th>no_of_premiums_paid</th>\n",
       "      <th>sourcing_channel</th>\n",
       "      <th>residence_area_type</th>\n",
       "      <th>premium</th>\n",
       "      <th>target</th>\n",
       "    </tr>\n",
       "  </thead>\n",
       "  <tbody>\n",
       "    <tr>\n",
       "      <th>0</th>\n",
       "      <td>110936</td>\n",
       "      <td>0.429</td>\n",
       "      <td>12058</td>\n",
       "      <td>355060</td>\n",
       "      <td>0.0</td>\n",
       "      <td>0.0</td>\n",
       "      <td>0.0</td>\n",
       "      <td>99.02</td>\n",
       "      <td>13</td>\n",
       "      <td>C</td>\n",
       "      <td>Urban</td>\n",
       "      <td>3300</td>\n",
       "      <td>1</td>\n",
       "    </tr>\n",
       "    <tr>\n",
       "      <th>1</th>\n",
       "      <td>41492</td>\n",
       "      <td>0.010</td>\n",
       "      <td>21546</td>\n",
       "      <td>315150</td>\n",
       "      <td>0.0</td>\n",
       "      <td>0.0</td>\n",
       "      <td>0.0</td>\n",
       "      <td>99.89</td>\n",
       "      <td>21</td>\n",
       "      <td>A</td>\n",
       "      <td>Urban</td>\n",
       "      <td>18000</td>\n",
       "      <td>1</td>\n",
       "    </tr>\n",
       "    <tr>\n",
       "      <th>2</th>\n",
       "      <td>31300</td>\n",
       "      <td>0.917</td>\n",
       "      <td>17531</td>\n",
       "      <td>84140</td>\n",
       "      <td>2.0</td>\n",
       "      <td>3.0</td>\n",
       "      <td>1.0</td>\n",
       "      <td>98.69</td>\n",
       "      <td>7</td>\n",
       "      <td>C</td>\n",
       "      <td>Rural</td>\n",
       "      <td>3300</td>\n",
       "      <td>0</td>\n",
       "    </tr>\n",
       "    <tr>\n",
       "      <th>3</th>\n",
       "      <td>19415</td>\n",
       "      <td>0.049</td>\n",
       "      <td>15341</td>\n",
       "      <td>250510</td>\n",
       "      <td>0.0</td>\n",
       "      <td>0.0</td>\n",
       "      <td>0.0</td>\n",
       "      <td>99.57</td>\n",
       "      <td>9</td>\n",
       "      <td>A</td>\n",
       "      <td>Urban</td>\n",
       "      <td>9600</td>\n",
       "      <td>1</td>\n",
       "    </tr>\n",
       "    <tr>\n",
       "      <th>4</th>\n",
       "      <td>99379</td>\n",
       "      <td>0.052</td>\n",
       "      <td>31400</td>\n",
       "      <td>198680</td>\n",
       "      <td>0.0</td>\n",
       "      <td>0.0</td>\n",
       "      <td>0.0</td>\n",
       "      <td>99.87</td>\n",
       "      <td>12</td>\n",
       "      <td>B</td>\n",
       "      <td>Urban</td>\n",
       "      <td>9600</td>\n",
       "      <td>1</td>\n",
       "    </tr>\n",
       "  </tbody>\n",
       "</table>\n",
       "</div>"
      ],
      "text/plain": [
       "       id  perc_premium_paid_by_cash_credit  age_in_days  Income  \\\n",
       "0  110936                             0.429        12058  355060   \n",
       "1   41492                             0.010        21546  315150   \n",
       "2   31300                             0.917        17531   84140   \n",
       "3   19415                             0.049        15341  250510   \n",
       "4   99379                             0.052        31400  198680   \n",
       "\n",
       "   Count_3-6_months_late  Count_6-12_months_late  \\\n",
       "0                    0.0                     0.0   \n",
       "1                    0.0                     0.0   \n",
       "2                    2.0                     3.0   \n",
       "3                    0.0                     0.0   \n",
       "4                    0.0                     0.0   \n",
       "\n",
       "   Count_more_than_12_months_late  application_underwriting_score  \\\n",
       "0                             0.0                           99.02   \n",
       "1                             0.0                           99.89   \n",
       "2                             1.0                           98.69   \n",
       "3                             0.0                           99.57   \n",
       "4                             0.0                           99.87   \n",
       "\n",
       "   no_of_premiums_paid sourcing_channel residence_area_type  premium  target  \n",
       "0                   13                C               Urban     3300       1  \n",
       "1                   21                A               Urban    18000       1  \n",
       "2                    7                C               Rural     3300       0  \n",
       "3                    9                A               Urban     9600       1  \n",
       "4                   12                B               Urban     9600       1  "
      ]
     },
     "execution_count": 41,
     "metadata": {},
     "output_type": "execute_result"
    }
   ],
   "source": [
    "train.head()"
   ]
  },
  {
   "cell_type": "code",
   "execution_count": 130,
   "metadata": {},
   "outputs": [],
   "source": [
    "pred = pred.drop('id', 1)"
   ]
  },
  {
   "cell_type": "code",
   "execution_count": 134,
   "metadata": {},
   "outputs": [
    {
     "data": {
      "text/plain": [
       "Index(['perc_premium_paid_by_cash_credit', 'age_in_days', 'Income',\n",
       "       'Count_3-6_months_late', 'Count_6-12_months_late',\n",
       "       'Count_more_than_12_months_late', 'application_underwriting_score',\n",
       "       'no_of_premiums_paid', 'sourcing_channel', 'residence_area_type',\n",
       "       'premium', 'target'],\n",
       "      dtype='object')"
      ]
     },
     "execution_count": 134,
     "metadata": {},
     "output_type": "execute_result"
    }
   ],
   "source": [
    "train.columns"
   ]
  },
  {
   "cell_type": "code",
   "execution_count": 135,
   "metadata": {},
   "outputs": [
    {
     "data": {
      "text/plain": [
       "Index(['perc_premium_paid_by_cash_credit', 'age_in_days', 'Income',\n",
       "       'Count_3-6_months_late', 'Count_6-12_months_late',\n",
       "       'Count_more_than_12_months_late', 'application_underwriting_score',\n",
       "       'no_of_premiums_paid', 'sourcing_channel', 'residence_area_type'],\n",
       "      dtype='object')"
      ]
     },
     "execution_count": 135,
     "metadata": {},
     "output_type": "execute_result"
    }
   ],
   "source": [
    "pred.columns"
   ]
  },
  {
   "cell_type": "code",
   "execution_count": 91,
   "metadata": {},
   "outputs": [
    {
     "data": {
      "text/plain": [
       "<matplotlib.axes._subplots.AxesSubplot at 0x7fd489029a58>"
      ]
     },
     "execution_count": 91,
     "metadata": {},
     "output_type": "execute_result"
    },
    {
     "data": {
      "image/png": "[encoded data removed]",
      "text/plain": [
       "<Figure size 432x288 with 1 Axes>"
      ]
     },
     "metadata": {
      "needs_background": "light"
     },
     "output_type": "display_data"
    }
   ],
   "source": [
    "sn.distplot(np.log(train['no_of_premiums_paid']))"
   ]
  },
  {
   "cell_type": "code",
   "execution_count": 249,
   "metadata": {},
   "outputs": [],
   "source": [
    "pred['application_underwriting_score'].fillna(pred['application_underwriting_score'].mean(), inplace =True)"
   ]
  },
  {
   "cell_type": "code",
   "execution_count": 58,
   "metadata": {},
   "outputs": [
    {
     "data": {
      "text/plain": [
       "Index(['perc_premium_paid_by_cash_credit', 'age_in_days', 'Income',\n",
       "       'Count_3-6_months_late', 'Count_6-12_months_late',\n",
       "       'Count_more_than_12_months_late', 'application_underwriting_score',\n",
       "       'no_of_premiums_paid', 'sourcing_channel', 'residence_area_type',\n",
       "       'premium', 'target'],\n",
       "      dtype='object')"
      ]
     },
     "execution_count": 58,
     "metadata": {},
     "output_type": "execute_result"
    }
   ],
   "source": [
    "train.columns"
   ]
  },
  {
   "cell_type": "code",
   "execution_count": 59,
   "metadata": {},
   "outputs": [],
   "source": [
    "train['age_in_days'].fillna(train['age_in_days'].mean(), inplace =True)"
   ]
  },
  {
   "cell_type": "code",
   "execution_count": 60,
   "metadata": {},
   "outputs": [],
   "source": [
    "train['Count_6-12_months_late'].fillna(train['Count_6-12_months_late'].mean(), inplace =True)"
   ]
  },
  {
   "cell_type": "code",
   "execution_count": 61,
   "metadata": {},
   "outputs": [],
   "source": [
    "train['Count_3-6_months_late'].fillna(train['Count_3-6_months_late'].mean(), inplace =True)"
   ]
  },
  {
   "cell_type": "code",
   "execution_count": 62,
   "metadata": {},
   "outputs": [],
   "source": [
    "train['Count_more_than_12_months_late'].fillna(train['Count_more_than_12_months_late'].mean(), inplace =True)"
   ]
  },
  {
   "cell_type": "code",
   "execution_count": 63,
   "metadata": {},
   "outputs": [],
   "source": [
    "train['premium'].fillna(train['premium'].mean(), inplace =True)"
   ]
  },
  {
   "cell_type": "code",
   "execution_count": 64,
   "metadata": {},
   "outputs": [],
   "source": [
    "train['perc_premium_paid_by_cash_credit'].fillna(train['perc_premium_paid_by_cash_credit'].mean(), inplace =True)"
   ]
  },
  {
   "cell_type": "code",
   "execution_count": 65,
   "metadata": {},
   "outputs": [
    {
     "data": {
      "text/html": [
       "<div>\n",
       "<style scoped>\n",
       "    .dataframe tbody tr th:only-of-type {\n",
       "        vertical-align: middle;\n",
       "    }\n",
       "\n",
       "    .dataframe tbody tr th {\n",
       "        vertical-align: top;\n",
       "    }\n",
       "\n",
       "    .dataframe thead th {\n",
       "        text-align: right;\n",
       "    }\n",
       "</style>\n",
       "<table border=\"1\" class=\"dataframe\">\n",
       "  <thead>\n",
       "    <tr style=\"text-align: right;\">\n",
       "      <th></th>\n",
       "      <th>perc_premium_paid_by_cash_credit</th>\n",
       "      <th>age_in_days</th>\n",
       "      <th>Income</th>\n",
       "      <th>Count_3-6_months_late</th>\n",
       "      <th>Count_6-12_months_late</th>\n",
       "      <th>Count_more_than_12_months_late</th>\n",
       "      <th>application_underwriting_score</th>\n",
       "      <th>no_of_premiums_paid</th>\n",
       "      <th>sourcing_channel</th>\n",
       "      <th>residence_area_type</th>\n",
       "      <th>premium</th>\n",
       "      <th>target</th>\n",
       "    </tr>\n",
       "  </thead>\n",
       "  <tbody>\n",
       "    <tr>\n",
       "      <th>0</th>\n",
       "      <td>0.429</td>\n",
       "      <td>12058</td>\n",
       "      <td>355060</td>\n",
       "      <td>0.0</td>\n",
       "      <td>0.0</td>\n",
       "      <td>0.0</td>\n",
       "      <td>99.02</td>\n",
       "      <td>13</td>\n",
       "      <td>C</td>\n",
       "      <td>Urban</td>\n",
       "      <td>3300</td>\n",
       "      <td>1</td>\n",
       "    </tr>\n",
       "    <tr>\n",
       "      <th>1</th>\n",
       "      <td>0.010</td>\n",
       "      <td>21546</td>\n",
       "      <td>315150</td>\n",
       "      <td>0.0</td>\n",
       "      <td>0.0</td>\n",
       "      <td>0.0</td>\n",
       "      <td>99.89</td>\n",
       "      <td>21</td>\n",
       "      <td>A</td>\n",
       "      <td>Urban</td>\n",
       "      <td>18000</td>\n",
       "      <td>1</td>\n",
       "    </tr>\n",
       "    <tr>\n",
       "      <th>2</th>\n",
       "      <td>0.917</td>\n",
       "      <td>17531</td>\n",
       "      <td>84140</td>\n",
       "      <td>2.0</td>\n",
       "      <td>3.0</td>\n",
       "      <td>1.0</td>\n",
       "      <td>98.69</td>\n",
       "      <td>7</td>\n",
       "      <td>C</td>\n",
       "      <td>Rural</td>\n",
       "      <td>3300</td>\n",
       "      <td>0</td>\n",
       "    </tr>\n",
       "    <tr>\n",
       "      <th>3</th>\n",
       "      <td>0.049</td>\n",
       "      <td>15341</td>\n",
       "      <td>250510</td>\n",
       "      <td>0.0</td>\n",
       "      <td>0.0</td>\n",
       "      <td>0.0</td>\n",
       "      <td>99.57</td>\n",
       "      <td>9</td>\n",
       "      <td>A</td>\n",
       "      <td>Urban</td>\n",
       "      <td>9600</td>\n",
       "      <td>1</td>\n",
       "    </tr>\n",
       "    <tr>\n",
       "      <th>4</th>\n",
       "      <td>0.052</td>\n",
       "      <td>31400</td>\n",
       "      <td>198680</td>\n",
       "      <td>0.0</td>\n",
       "      <td>0.0</td>\n",
       "      <td>0.0</td>\n",
       "      <td>99.87</td>\n",
       "      <td>12</td>\n",
       "      <td>B</td>\n",
       "      <td>Urban</td>\n",
       "      <td>9600</td>\n",
       "      <td>1</td>\n",
       "    </tr>\n",
       "  </tbody>\n",
       "</table>\n",
       "</div>"
      ],
      "text/plain": [
       "   perc_premium_paid_by_cash_credit  age_in_days  Income  \\\n",
       "0                             0.429        12058  355060   \n",
       "1                             0.010        21546  315150   \n",
       "2                             0.917        17531   84140   \n",
       "3                             0.049        15341  250510   \n",
       "4                             0.052        31400  198680   \n",
       "\n",
       "   Count_3-6_months_late  Count_6-12_months_late  \\\n",
       "0                    0.0                     0.0   \n",
       "1                    0.0                     0.0   \n",
       "2                    2.0                     3.0   \n",
       "3                    0.0                     0.0   \n",
       "4                    0.0                     0.0   \n",
       "\n",
       "   Count_more_than_12_months_late  application_underwriting_score  \\\n",
       "0                             0.0                           99.02   \n",
       "1                             0.0                           99.89   \n",
       "2                             1.0                           98.69   \n",
       "3                             0.0                           99.57   \n",
       "4                             0.0                           99.87   \n",
       "\n",
       "   no_of_premiums_paid sourcing_channel residence_area_type  premium  target  \n",
       "0                   13                C               Urban     3300       1  \n",
       "1                   21                A               Urban    18000       1  \n",
       "2                    7                C               Rural     3300       0  \n",
       "3                    9                A               Urban     9600       1  \n",
       "4                   12                B               Urban     9600       1  "
      ]
     },
     "execution_count": 65,
     "metadata": {},
     "output_type": "execute_result"
    }
   ],
   "source": [
    "train.head()"
   ]
  },
  {
   "cell_type": "raw",
   "metadata": {},
   "source": []
  },
  {
   "cell_type": "code",
   "execution_count": 245,
   "metadata": {},
   "outputs": [],
   "source": [
    "pred['Count_more_than_12_months_late'].fillna(0, inplace =True)"
   ]
  },
  {
   "cell_type": "code",
   "execution_count": 246,
   "metadata": {},
   "outputs": [],
   "source": [
    "pred['Count_3-6_months_late'].fillna(0, inplace =True)"
   ]
  },
  {
   "cell_type": "code",
   "execution_count": 247,
   "metadata": {},
   "outputs": [],
   "source": [
    "pred['Count_6-12_months_late'].fillna(0, inplace =True)"
   ]
  },
  {
   "cell_type": "code",
   "execution_count": 149,
   "metadata": {},
   "outputs": [
    {
     "data": {
      "text/plain": [
       "perc_premium_paid_by_cash_credit    0\n",
       "age_in_days                         0\n",
       "Income                              0\n",
       "Count_3-6_months_late               0\n",
       "Count_6-12_months_late              0\n",
       "Count_more_than_12_months_late      0\n",
       "application_underwriting_score      0\n",
       "no_of_premiums_paid                 0\n",
       "sourcing_channel                    0\n",
       "residence_area_type                 0\n",
       "dtype: int64"
      ]
     },
     "execution_count": 149,
     "metadata": {},
     "output_type": "execute_result"
    }
   ],
   "source": [
    "pred.isnull().sum()"
   ]
  },
  {
   "cell_type": "code",
   "execution_count": 50,
   "metadata": {},
   "outputs": [
    {
     "data": {
      "text/html": [
       "<div>\n",
       "<style scoped>\n",
       "    .dataframe tbody tr th:only-of-type {\n",
       "        vertical-align: middle;\n",
       "    }\n",
       "\n",
       "    .dataframe tbody tr th {\n",
       "        vertical-align: top;\n",
       "    }\n",
       "\n",
       "    .dataframe thead th {\n",
       "        text-align: right;\n",
       "    }\n",
       "</style>\n",
       "<table border=\"1\" class=\"dataframe\">\n",
       "  <thead>\n",
       "    <tr style=\"text-align: right;\">\n",
       "      <th></th>\n",
       "      <th>perc_premium_paid_by_cash_credit</th>\n",
       "      <th>age_in_days</th>\n",
       "      <th>Income</th>\n",
       "      <th>Count_3-6_months_late</th>\n",
       "      <th>Count_6-12_months_late</th>\n",
       "      <th>Count_more_than_12_months_late</th>\n",
       "      <th>application_underwriting_score</th>\n",
       "      <th>no_of_premiums_paid</th>\n",
       "      <th>premium</th>\n",
       "      <th>target</th>\n",
       "    </tr>\n",
       "  </thead>\n",
       "  <tbody>\n",
       "    <tr>\n",
       "      <th>count</th>\n",
       "      <td>79853.000000</td>\n",
       "      <td>79853.000000</td>\n",
       "      <td>7.985300e+04</td>\n",
       "      <td>79756.000000</td>\n",
       "      <td>79756.000000</td>\n",
       "      <td>79756.000000</td>\n",
       "      <td>76879.000000</td>\n",
       "      <td>79853.000000</td>\n",
       "      <td>79853.000000</td>\n",
       "      <td>79853.000000</td>\n",
       "    </tr>\n",
       "    <tr>\n",
       "      <th>mean</th>\n",
       "      <td>0.314288</td>\n",
       "      <td>18846.696906</td>\n",
       "      <td>2.088472e+05</td>\n",
       "      <td>0.248671</td>\n",
       "      <td>0.078188</td>\n",
       "      <td>0.060008</td>\n",
       "      <td>99.067291</td>\n",
       "      <td>10.863887</td>\n",
       "      <td>10924.507533</td>\n",
       "      <td>0.937410</td>\n",
       "    </tr>\n",
       "    <tr>\n",
       "      <th>std</th>\n",
       "      <td>0.334915</td>\n",
       "      <td>5208.719136</td>\n",
       "      <td>4.965826e+05</td>\n",
       "      <td>0.691468</td>\n",
       "      <td>0.436507</td>\n",
       "      <td>0.312023</td>\n",
       "      <td>0.739799</td>\n",
       "      <td>5.170687</td>\n",
       "      <td>9401.676542</td>\n",
       "      <td>0.242226</td>\n",
       "    </tr>\n",
       "    <tr>\n",
       "      <th>min</th>\n",
       "      <td>0.000000</td>\n",
       "      <td>7670.000000</td>\n",
       "      <td>2.403000e+04</td>\n",
       "      <td>0.000000</td>\n",
       "      <td>0.000000</td>\n",
       "      <td>0.000000</td>\n",
       "      <td>91.900000</td>\n",
       "      <td>2.000000</td>\n",
       "      <td>1200.000000</td>\n",
       "      <td>0.000000</td>\n",
       "    </tr>\n",
       "    <tr>\n",
       "      <th>25%</th>\n",
       "      <td>0.034000</td>\n",
       "      <td>14974.000000</td>\n",
       "      <td>1.080100e+05</td>\n",
       "      <td>0.000000</td>\n",
       "      <td>0.000000</td>\n",
       "      <td>0.000000</td>\n",
       "      <td>98.810000</td>\n",
       "      <td>7.000000</td>\n",
       "      <td>5400.000000</td>\n",
       "      <td>1.000000</td>\n",
       "    </tr>\n",
       "    <tr>\n",
       "      <th>50%</th>\n",
       "      <td>0.167000</td>\n",
       "      <td>18625.000000</td>\n",
       "      <td>1.665600e+05</td>\n",
       "      <td>0.000000</td>\n",
       "      <td>0.000000</td>\n",
       "      <td>0.000000</td>\n",
       "      <td>99.210000</td>\n",
       "      <td>10.000000</td>\n",
       "      <td>7500.000000</td>\n",
       "      <td>1.000000</td>\n",
       "    </tr>\n",
       "    <tr>\n",
       "      <th>75%</th>\n",
       "      <td>0.538000</td>\n",
       "      <td>22636.000000</td>\n",
       "      <td>2.520900e+05</td>\n",
       "      <td>0.000000</td>\n",
       "      <td>0.000000</td>\n",
       "      <td>0.000000</td>\n",
       "      <td>99.540000</td>\n",
       "      <td>14.000000</td>\n",
       "      <td>13800.000000</td>\n",
       "      <td>1.000000</td>\n",
       "    </tr>\n",
       "    <tr>\n",
       "      <th>max</th>\n",
       "      <td>1.000000</td>\n",
       "      <td>37602.000000</td>\n",
       "      <td>9.026260e+07</td>\n",
       "      <td>13.000000</td>\n",
       "      <td>17.000000</td>\n",
       "      <td>11.000000</td>\n",
       "      <td>99.890000</td>\n",
       "      <td>60.000000</td>\n",
       "      <td>60000.000000</td>\n",
       "      <td>1.000000</td>\n",
       "    </tr>\n",
       "  </tbody>\n",
       "</table>\n",
       "</div>"
      ],
      "text/plain": [
       "       perc_premium_paid_by_cash_credit   age_in_days        Income  \\\n",
       "count                      79853.000000  79853.000000  7.985300e+04   \n",
       "mean                           0.314288  18846.696906  2.088472e+05   \n",
       "std                            0.334915   5208.719136  4.965826e+05   \n",
       "min                            0.000000   7670.000000  2.403000e+04   \n",
       "25%                            0.034000  14974.000000  1.080100e+05   \n",
       "50%                            0.167000  18625.000000  1.665600e+05   \n",
       "75%                            0.538000  22636.000000  2.520900e+05   \n",
       "max                            1.000000  37602.000000  9.026260e+07   \n",
       "\n",
       "       Count_3-6_months_late  Count_6-12_months_late  \\\n",
       "count           79756.000000            79756.000000   \n",
       "mean                0.248671                0.078188   \n",
       "std                 0.691468                0.436507   \n",
       "min                 0.000000                0.000000   \n",
       "25%                 0.000000                0.000000   \n",
       "50%                 0.000000                0.000000   \n",
       "75%                 0.000000                0.000000   \n",
       "max                13.000000               17.000000   \n",
       "\n",
       "       Count_more_than_12_months_late  application_underwriting_score  \\\n",
       "count                    79756.000000                    76879.000000   \n",
       "mean                         0.060008                       99.067291   \n",
       "std                          0.312023                        0.739799   \n",
       "min                          0.000000                       91.900000   \n",
       "25%                          0.000000                       98.810000   \n",
       "50%                          0.000000                       99.210000   \n",
       "75%                          0.000000                       99.540000   \n",
       "max                         11.000000                       99.890000   \n",
       "\n",
       "       no_of_premiums_paid       premium        target  \n",
       "count         79853.000000  79853.000000  79853.000000  \n",
       "mean             10.863887  10924.507533      0.937410  \n",
       "std               5.170687   9401.676542      0.242226  \n",
       "min               2.000000   1200.000000      0.000000  \n",
       "25%               7.000000   5400.000000      1.000000  \n",
       "50%              10.000000   7500.000000      1.000000  \n",
       "75%              14.000000  13800.000000      1.000000  \n",
       "max              60.000000  60000.000000      1.000000  "
      ]
     },
     "execution_count": 50,
     "metadata": {},
     "output_type": "execute_result"
    }
   ],
   "source": [
    "train.describe()"
   ]
  },
  {
   "cell_type": "code",
   "execution_count": 51,
   "metadata": {},
   "outputs": [
    {
     "data": {
      "text/plain": [
       "(79853, 12)"
      ]
     },
     "execution_count": 51,
     "metadata": {},
     "output_type": "execute_result"
    }
   ],
   "source": [
    "train.shape"
   ]
  },
  {
   "cell_type": "code",
   "execution_count": 243,
   "metadata": {},
   "outputs": [
    {
     "name": "stderr",
     "output_type": "stream",
     "text": [
      "/home/ahtrahdis_7/anaconda3/lib/python3.7/site-packages/ipykernel_launcher.py:1: SettingWithCopyWarning: \n",
      "A value is trying to be set on a copy of a slice from a DataFrame\n",
      "\n",
      "See the caveats in the documentation: http://pandas.pydata.org/pandas-docs/stable/indexing.html#indexing-view-versus-copy\n",
      "  \"\"\"Entry point for launching an IPython kernel.\n"
     ]
    }
   ],
   "source": [
    "pred['sourcing_channel'][pred['sourcing_channel'] == 'C'] = 3"
   ]
  },
  {
   "cell_type": "code",
   "execution_count": 113,
   "metadata": {},
   "outputs": [
    {
     "name": "stderr",
     "output_type": "stream",
     "text": [
      "/home/ahtrahdis_7/anaconda3/lib/python3.7/site-packages/ipykernel_launcher.py:1: SettingWithCopyWarning: \n",
      "A value is trying to be set on a copy of a slice from a DataFrame\n",
      "\n",
      "See the caveats in the documentation: http://pandas.pydata.org/pandas-docs/stable/indexing.html#indexing-view-versus-copy\n",
      "  \"\"\"Entry point for launching an IPython kernel.\n"
     ]
    }
   ],
   "source": [
    "train['sourcing_channel'][train['sourcing_channel'] == 'E'] = 5"
   ]
  },
  {
   "cell_type": "code",
   "execution_count": 74,
   "metadata": {},
   "outputs": [
    {
     "name": "stderr",
     "output_type": "stream",
     "text": [
      "/home/ahtrahdis_7/anaconda3/lib/python3.7/site-packages/ipykernel_launcher.py:1: SettingWithCopyWarning: \n",
      "A value is trying to be set on a copy of a slice from a DataFrame\n",
      "\n",
      "See the caveats in the documentation: http://pandas.pydata.org/pandas-docs/stable/indexing.html#indexing-view-versus-copy\n",
      "  \"\"\"Entry point for launching an IPython kernel.\n"
     ]
    }
   ],
   "source": [
    "train['sourcing_channel'][train['sourcing_channel'] == 'C'] = 3"
   ]
  },
  {
   "cell_type": "code",
   "execution_count": 89,
   "metadata": {},
   "outputs": [
    {
     "data": {
      "text/html": [
       "<div>\n",
       "<style scoped>\n",
       "    .dataframe tbody tr th:only-of-type {\n",
       "        vertical-align: middle;\n",
       "    }\n",
       "\n",
       "    .dataframe tbody tr th {\n",
       "        vertical-align: top;\n",
       "    }\n",
       "\n",
       "    .dataframe thead th {\n",
       "        text-align: right;\n",
       "    }\n",
       "</style>\n",
       "<table border=\"1\" class=\"dataframe\">\n",
       "  <thead>\n",
       "    <tr style=\"text-align: right;\">\n",
       "      <th></th>\n",
       "      <th>perc_premium_paid_by_cash_credit</th>\n",
       "      <th>age_in_days</th>\n",
       "      <th>Income</th>\n",
       "      <th>Count_3-6_months_late</th>\n",
       "      <th>Count_6-12_months_late</th>\n",
       "      <th>Count_more_than_12_months_late</th>\n",
       "      <th>application_underwriting_score</th>\n",
       "      <th>no_of_premiums_paid</th>\n",
       "      <th>sourcing_channel</th>\n",
       "      <th>residence_area_type</th>\n",
       "      <th>premium</th>\n",
       "      <th>target</th>\n",
       "    </tr>\n",
       "  </thead>\n",
       "  <tbody>\n",
       "    <tr>\n",
       "      <th>0</th>\n",
       "      <td>0.429</td>\n",
       "      <td>12058</td>\n",
       "      <td>12.780042</td>\n",
       "      <td>0.0</td>\n",
       "      <td>0.0</td>\n",
       "      <td>0.0</td>\n",
       "      <td>99.02</td>\n",
       "      <td>13</td>\n",
       "      <td>3</td>\n",
       "      <td>1</td>\n",
       "      <td>3300</td>\n",
       "      <td>1</td>\n",
       "    </tr>\n",
       "    <tr>\n",
       "      <th>1</th>\n",
       "      <td>0.010</td>\n",
       "      <td>21546</td>\n",
       "      <td>12.660804</td>\n",
       "      <td>0.0</td>\n",
       "      <td>0.0</td>\n",
       "      <td>0.0</td>\n",
       "      <td>99.89</td>\n",
       "      <td>21</td>\n",
       "      <td>1</td>\n",
       "      <td>1</td>\n",
       "      <td>18000</td>\n",
       "      <td>1</td>\n",
       "    </tr>\n",
       "    <tr>\n",
       "      <th>2</th>\n",
       "      <td>0.917</td>\n",
       "      <td>17531</td>\n",
       "      <td>11.340237</td>\n",
       "      <td>2.0</td>\n",
       "      <td>3.0</td>\n",
       "      <td>1.0</td>\n",
       "      <td>98.69</td>\n",
       "      <td>7</td>\n",
       "      <td>3</td>\n",
       "      <td>0</td>\n",
       "      <td>3300</td>\n",
       "      <td>0</td>\n",
       "    </tr>\n",
       "    <tr>\n",
       "      <th>3</th>\n",
       "      <td>0.049</td>\n",
       "      <td>15341</td>\n",
       "      <td>12.431254</td>\n",
       "      <td>0.0</td>\n",
       "      <td>0.0</td>\n",
       "      <td>0.0</td>\n",
       "      <td>99.57</td>\n",
       "      <td>9</td>\n",
       "      <td>1</td>\n",
       "      <td>1</td>\n",
       "      <td>9600</td>\n",
       "      <td>1</td>\n",
       "    </tr>\n",
       "    <tr>\n",
       "      <th>4</th>\n",
       "      <td>0.052</td>\n",
       "      <td>31400</td>\n",
       "      <td>12.199451</td>\n",
       "      <td>0.0</td>\n",
       "      <td>0.0</td>\n",
       "      <td>0.0</td>\n",
       "      <td>99.87</td>\n",
       "      <td>12</td>\n",
       "      <td>2</td>\n",
       "      <td>1</td>\n",
       "      <td>9600</td>\n",
       "      <td>1</td>\n",
       "    </tr>\n",
       "  </tbody>\n",
       "</table>\n",
       "</div>"
      ],
      "text/plain": [
       "   perc_premium_paid_by_cash_credit  age_in_days     Income  \\\n",
       "0                             0.429        12058  12.780042   \n",
       "1                             0.010        21546  12.660804   \n",
       "2                             0.917        17531  11.340237   \n",
       "3                             0.049        15341  12.431254   \n",
       "4                             0.052        31400  12.199451   \n",
       "\n",
       "   Count_3-6_months_late  Count_6-12_months_late  \\\n",
       "0                    0.0                     0.0   \n",
       "1                    0.0                     0.0   \n",
       "2                    2.0                     3.0   \n",
       "3                    0.0                     0.0   \n",
       "4                    0.0                     0.0   \n",
       "\n",
       "   Count_more_than_12_months_late  application_underwriting_score  \\\n",
       "0                             0.0                           99.02   \n",
       "1                             0.0                           99.89   \n",
       "2                             1.0                           98.69   \n",
       "3                             0.0                           99.57   \n",
       "4                             0.0                           99.87   \n",
       "\n",
       "   no_of_premiums_paid sourcing_channel residence_area_type  premium  target  \n",
       "0                   13                3                   1     3300       1  \n",
       "1                   21                1                   1    18000       1  \n",
       "2                    7                3                   0     3300       0  \n",
       "3                    9                1                   1     9600       1  \n",
       "4                   12                2                   1     9600       1  "
      ]
     },
     "execution_count": 89,
     "metadata": {},
     "output_type": "execute_result"
    }
   ],
   "source": [
    "train.head()"
   ]
  },
  {
   "cell_type": "code",
   "execution_count": 155,
   "metadata": {},
   "outputs": [
    {
     "name": "stderr",
     "output_type": "stream",
     "text": [
      "/home/ahtrahdis_7/anaconda3/lib/python3.7/site-packages/ipykernel_launcher.py:1: SettingWithCopyWarning: \n",
      "A value is trying to be set on a copy of a slice from a DataFrame\n",
      "\n",
      "See the caveats in the documentation: http://pandas.pydata.org/pandas-docs/stable/indexing.html#indexing-view-versus-copy\n",
      "  \"\"\"Entry point for launching an IPython kernel.\n"
     ]
    }
   ],
   "source": [
    "pred['residence_area_type'][pred['residence_area_type'] == 'Rural'] = 1"
   ]
  },
  {
   "cell_type": "code",
   "execution_count": 83,
   "metadata": {},
   "outputs": [
    {
     "name": "stderr",
     "output_type": "stream",
     "text": [
      "/home/ahtrahdis_7/anaconda3/lib/python3.7/site-packages/ipykernel_launcher.py:1: SettingWithCopyWarning: \n",
      "A value is trying to be set on a copy of a slice from a DataFrame\n",
      "\n",
      "See the caveats in the documentation: http://pandas.pydata.org/pandas-docs/stable/indexing.html#indexing-view-versus-copy\n",
      "  \"\"\"Entry point for launching an IPython kernel.\n"
     ]
    }
   ],
   "source": [
    "train['residence_area_type'][train['residence_area_type'] == 2] = 0"
   ]
  },
  {
   "cell_type": "code",
   "execution_count": 93,
   "metadata": {},
   "outputs": [],
   "source": [
    "from sklearn.model_selection import train_test_split"
   ]
  },
  {
   "cell_type": "code",
   "execution_count": 231,
   "metadata": {},
   "outputs": [],
   "source": [
    "x = train.drop('target', axis = 1)\n",
    "x = x.drop('premium', axis = 1)\n",
    "y = train['target']"
   ]
  },
  {
   "cell_type": "code",
   "execution_count": 88,
   "metadata": {},
   "outputs": [],
   "source": [
    "train['Income'] = np.log(train['Income'])"
   ]
  },
  {
   "cell_type": "code",
   "execution_count": 233,
   "metadata": {},
   "outputs": [
    {
     "data": {
      "text/plain": [
       "(79853, 10)"
      ]
     },
     "execution_count": 233,
     "metadata": {},
     "output_type": "execute_result"
    }
   ],
   "source": [
    "x.shape"
   ]
  },
  {
   "cell_type": "code",
   "execution_count": 138,
   "metadata": {},
   "outputs": [
    {
     "data": {
      "text/plain": [
       "1    0.937387\n",
       "0    0.062613\n",
       "Name: target, dtype: float64"
      ]
     },
     "execution_count": 138,
     "metadata": {},
     "output_type": "execute_result"
    }
   ],
   "source": [
    "ytest.value_counts()/len(ytest)"
   ]
  },
  {
   "cell_type": "code",
   "execution_count": 139,
   "metadata": {},
   "outputs": [
    {
     "data": {
      "text/plain": [
       "1    0.937418\n",
       "0    0.062582\n",
       "Name: target, dtype: float64"
      ]
     },
     "execution_count": 139,
     "metadata": {},
     "output_type": "execute_result"
    }
   ],
   "source": [
    "ytrain.value_counts()/len(ytrain)"
   ]
  },
  {
   "cell_type": "code",
   "execution_count": 105,
   "metadata": {},
   "outputs": [],
   "source": [
    "from sklearn.tree import DecisionTreeClassifier"
   ]
  },
  {
   "cell_type": "code",
   "execution_count": 123,
   "metadata": {},
   "outputs": [],
   "source": [
    "model = DecisionTreeClassifier(   )"
   ]
  },
  {
   "cell_type": "code",
   "execution_count": 234,
   "metadata": {},
   "outputs": [
    {
     "data": {
      "text/plain": [
       "DecisionTreeClassifier(class_weight=None, criterion='gini', max_depth=None,\n",
       "            max_features=None, max_leaf_nodes=None,\n",
       "            min_impurity_decrease=0.0, min_impurity_split=None,\n",
       "            min_samples_leaf=1, min_samples_split=2,\n",
       "            min_weight_fraction_leaf=0.0, presort=False, random_state=None,\n",
       "            splitter='best')"
      ]
     },
     "execution_count": 234,
     "metadata": {},
     "output_type": "execute_result"
    }
   ],
   "source": [
    "model.fit(x, y)"
   ]
  },
  {
   "cell_type": "code",
   "execution_count": 248,
   "metadata": {},
   "outputs": [
    {
     "data": {
      "text/plain": [
       "id                                     0\n",
       "perc_premium_paid_by_cash_credit       0\n",
       "age_in_days                            0\n",
       "Income                                 0\n",
       "Count_3-6_months_late                  0\n",
       "Count_6-12_months_late                 0\n",
       "Count_more_than_12_months_late         0\n",
       "application_underwriting_score      1323\n",
       "no_of_premiums_paid                    0\n",
       "sourcing_channel                       0\n",
       "residence_area_type                    0\n",
       "dtype: int64"
      ]
     },
     "execution_count": 248,
     "metadata": {},
     "output_type": "execute_result"
    }
   ],
   "source": [
    "pred.isnull().sum()"
   ]
  },
  {
   "cell_type": "code",
   "execution_count": 116,
   "metadata": {},
   "outputs": [],
   "source": [
    "train['sourcing_channel'] = train['sourcing_channel'].astype(int)"
   ]
  },
  {
   "cell_type": "code",
   "execution_count": 141,
   "metadata": {},
   "outputs": [
    {
     "data": {
      "text/plain": [
       "1.0"
      ]
     },
     "execution_count": 141,
     "metadata": {},
     "output_type": "execute_result"
    }
   ],
   "source": [
    "model.score(xtrain,ytrain)"
   ]
  },
  {
   "cell_type": "code",
   "execution_count": 117,
   "metadata": {},
   "outputs": [],
   "source": [
    "train['residence_area_type'] = train['residence_area_type'].astype(int)"
   ]
  },
  {
   "cell_type": "code",
   "execution_count": 251,
   "metadata": {},
   "outputs": [],
   "source": [
    "pred['Income'] = np.log(pred['Income'])"
   ]
  },
  {
   "cell_type": "raw",
   "metadata": {},
   "source": []
  },
  {
   "cell_type": "code",
   "execution_count": 252,
   "metadata": {},
   "outputs": [
    {
     "data": {
      "text/plain": [
       "1.0"
      ]
     },
     "execution_count": 252,
     "metadata": {},
     "output_type": "execute_result"
    }
   ],
   "source": [
    "model.score(xtest, ytest)"
   ]
  },
  {
   "cell_type": "code",
   "execution_count": 214,
   "metadata": {},
   "outputs": [],
   "source": [
    "pred = pd.read_csv('test.csv')"
   ]
  },
  {
   "cell_type": "code",
   "execution_count": 237,
   "metadata": {},
   "outputs": [
    {
     "name": "stderr",
     "output_type": "stream",
     "text": [
      "/home/ahtrahdis_7/anaconda3/lib/python3.7/site-packages/ipykernel_launcher.py:1: SettingWithCopyWarning: \n",
      "A value is trying to be set on a copy of a slice from a DataFrame\n",
      "\n",
      "See the caveats in the documentation: http://pandas.pydata.org/pandas-docs/stable/indexing.html#indexing-view-versus-copy\n",
      "  \"\"\"Entry point for launching an IPython kernel.\n"
     ]
    }
   ],
   "source": [
    "pred['residence_area_type'][pred['residence_area_type'] == 'Urban'] = 1"
   ]
  },
  {
   "cell_type": "code",
   "execution_count": 238,
   "metadata": {},
   "outputs": [
    {
     "name": "stderr",
     "output_type": "stream",
     "text": [
      "/home/ahtrahdis_7/anaconda3/lib/python3.7/site-packages/ipykernel_launcher.py:1: SettingWithCopyWarning: \n",
      "A value is trying to be set on a copy of a slice from a DataFrame\n",
      "\n",
      "See the caveats in the documentation: http://pandas.pydata.org/pandas-docs/stable/indexing.html#indexing-view-versus-copy\n",
      "  \"\"\"Entry point for launching an IPython kernel.\n"
     ]
    }
   ],
   "source": [
    "pred['residence_area_type'][pred['residence_area_type'] == 'Rural'] = 0"
   ]
  },
  {
   "cell_type": "code",
   "execution_count": 255,
   "metadata": {},
   "outputs": [],
   "source": [
    "pred = pred.drop('id', axis = 1)"
   ]
  },
  {
   "cell_type": "code",
   "execution_count": 256,
   "metadata": {},
   "outputs": [],
   "source": [
    "results = model.predict(pred)"
   ]
  },
  {
   "cell_type": "code",
   "execution_count": 257,
   "metadata": {},
   "outputs": [],
   "source": [
    "subm2 = pd.DataFrame()"
   ]
  },
  {
   "cell_type": "code",
   "execution_count": 208,
   "metadata": {},
   "outputs": [],
   "source": [
    "submission2 = pred['id']"
   ]
  },
  {
   "cell_type": "code",
   "execution_count": 258,
   "metadata": {},
   "outputs": [],
   "source": [
    "subm2['results'] = results"
   ]
  },
  {
   "cell_type": "code",
   "execution_count": 259,
   "metadata": {},
   "outputs": [
    {
     "data": {
      "text/html": [
       "<div>\n",
       "<style scoped>\n",
       "    .dataframe tbody tr th:only-of-type {\n",
       "        vertical-align: middle;\n",
       "    }\n",
       "\n",
       "    .dataframe tbody tr th {\n",
       "        vertical-align: top;\n",
       "    }\n",
       "\n",
       "    .dataframe thead th {\n",
       "        text-align: right;\n",
       "    }\n",
       "</style>\n",
       "<table border=\"1\" class=\"dataframe\">\n",
       "  <thead>\n",
       "    <tr style=\"text-align: right;\">\n",
       "      <th></th>\n",
       "      <th>results</th>\n",
       "    </tr>\n",
       "  </thead>\n",
       "  <tbody>\n",
       "    <tr>\n",
       "      <th>34219</th>\n",
       "      <td>1</td>\n",
       "    </tr>\n",
       "    <tr>\n",
       "      <th>34220</th>\n",
       "      <td>1</td>\n",
       "    </tr>\n",
       "    <tr>\n",
       "      <th>34221</th>\n",
       "      <td>0</td>\n",
       "    </tr>\n",
       "    <tr>\n",
       "      <th>34222</th>\n",
       "      <td>1</td>\n",
       "    </tr>\n",
       "    <tr>\n",
       "      <th>34223</th>\n",
       "      <td>1</td>\n",
       "    </tr>\n",
       "  </tbody>\n",
       "</table>\n",
       "</div>"
      ],
      "text/plain": [
       "       results\n",
       "34219        1\n",
       "34220        1\n",
       "34221        0\n",
       "34222        1\n",
       "34223        1"
      ]
     },
     "execution_count": 259,
     "metadata": {},
     "output_type": "execute_result"
    }
   ],
   "source": [
    "subm.tail()"
   ]
  },
  {
   "cell_type": "code",
   "execution_count": 260,
   "metadata": {},
   "outputs": [],
   "source": [
    "dd = pd.read_csv('test.csv')"
   ]
  },
  {
   "cell_type": "code",
   "execution_count": 263,
   "metadata": {},
   "outputs": [],
   "source": [
    "res.to_csv('results2.csv', header = True, index = False )"
   ]
  },
  {
   "cell_type": "code",
   "execution_count": 177,
   "metadata": {},
   "outputs": [
    {
     "data": {
      "text/plain": [
       "(34224,)"
      ]
     },
     "execution_count": 177,
     "metadata": {},
     "output_type": "execute_result"
    }
   ],
   "source": [
    "results.shape\n"
   ]
  },
  {
   "cell_type": "code",
   "execution_count": 210,
   "metadata": {},
   "outputs": [
    {
     "data": {
      "text/plain": [
       "(34224,)"
      ]
     },
     "execution_count": 210,
     "metadata": {},
     "output_type": "execute_result"
    }
   ],
   "source": [
    "submission2.shape"
   ]
  },
  {
   "cell_type": "code",
   "execution_count": 261,
   "metadata": {},
   "outputs": [],
   "source": [
    "res = pd.concat([dd['id'],subm], axis = 1)"
   ]
  },
  {
   "cell_type": "code",
   "execution_count": 262,
   "metadata": {},
   "outputs": [
    {
     "data": {
      "text/html": [
       "<div>\n",
       "<style scoped>\n",
       "    .dataframe tbody tr th:only-of-type {\n",
       "        vertical-align: middle;\n",
       "    }\n",
       "\n",
       "    .dataframe tbody tr th {\n",
       "        vertical-align: top;\n",
       "    }\n",
       "\n",
       "    .dataframe thead th {\n",
       "        text-align: right;\n",
       "    }\n",
       "</style>\n",
       "<table border=\"1\" class=\"dataframe\">\n",
       "  <thead>\n",
       "    <tr style=\"text-align: right;\">\n",
       "      <th></th>\n",
       "      <th>id</th>\n",
       "      <th>results</th>\n",
       "    </tr>\n",
       "  </thead>\n",
       "  <tbody>\n",
       "    <tr>\n",
       "      <th>0</th>\n",
       "      <td>649</td>\n",
       "      <td>1</td>\n",
       "    </tr>\n",
       "    <tr>\n",
       "      <th>1</th>\n",
       "      <td>81136</td>\n",
       "      <td>1</td>\n",
       "    </tr>\n",
       "    <tr>\n",
       "      <th>2</th>\n",
       "      <td>70762</td>\n",
       "      <td>1</td>\n",
       "    </tr>\n",
       "    <tr>\n",
       "      <th>3</th>\n",
       "      <td>53935</td>\n",
       "      <td>1</td>\n",
       "    </tr>\n",
       "    <tr>\n",
       "      <th>4</th>\n",
       "      <td>15476</td>\n",
       "      <td>0</td>\n",
       "    </tr>\n",
       "  </tbody>\n",
       "</table>\n",
       "</div>"
      ],
      "text/plain": [
       "      id  results\n",
       "0    649        1\n",
       "1  81136        1\n",
       "2  70762        1\n",
       "3  53935        1\n",
       "4  15476        0"
      ]
     },
     "execution_count": 262,
     "metadata": {},
     "output_type": "execute_result"
    }
   ],
   "source": [
    "res.head()"
   ]
  },
  {
   "cell_type": "code",
   "execution_count": 264,
   "metadata": {},
   "outputs": [
    {
     "data": {
      "text/html": [
       "<div>\n",
       "<style scoped>\n",
       "    .dataframe tbody tr th:only-of-type {\n",
       "        vertical-align: middle;\n",
       "    }\n",
       "\n",
       "    .dataframe tbody tr th {\n",
       "        vertical-align: top;\n",
       "    }\n",
       "\n",
       "    .dataframe thead th {\n",
       "        text-align: right;\n",
       "    }\n",
       "</style>\n",
       "<table border=\"1\" class=\"dataframe\">\n",
       "  <thead>\n",
       "    <tr style=\"text-align: right;\">\n",
       "      <th></th>\n",
       "      <th>perc_premium_paid_by_cash_credit</th>\n",
       "      <th>age_in_days</th>\n",
       "      <th>Income</th>\n",
       "      <th>Count_3-6_months_late</th>\n",
       "      <th>Count_6-12_months_late</th>\n",
       "      <th>Count_more_than_12_months_late</th>\n",
       "      <th>application_underwriting_score</th>\n",
       "      <th>no_of_premiums_paid</th>\n",
       "      <th>sourcing_channel</th>\n",
       "      <th>residence_area_type</th>\n",
       "    </tr>\n",
       "  </thead>\n",
       "  <tbody>\n",
       "    <tr>\n",
       "      <th>0</th>\n",
       "      <td>0.001</td>\n",
       "      <td>27384</td>\n",
       "      <td>10.842518</td>\n",
       "      <td>0.0</td>\n",
       "      <td>0.0</td>\n",
       "      <td>0.0</td>\n",
       "      <td>99.890000</td>\n",
       "      <td>7</td>\n",
       "      <td>1</td>\n",
       "      <td>0</td>\n",
       "    </tr>\n",
       "    <tr>\n",
       "      <th>1</th>\n",
       "      <td>0.124</td>\n",
       "      <td>23735</td>\n",
       "      <td>12.560736</td>\n",
       "      <td>0.0</td>\n",
       "      <td>0.0</td>\n",
       "      <td>0.0</td>\n",
       "      <td>98.930000</td>\n",
       "      <td>19</td>\n",
       "      <td>1</td>\n",
       "      <td>1</td>\n",
       "    </tr>\n",
       "    <tr>\n",
       "      <th>2</th>\n",
       "      <td>1.000</td>\n",
       "      <td>17170</td>\n",
       "      <td>12.133663</td>\n",
       "      <td>0.0</td>\n",
       "      <td>0.0</td>\n",
       "      <td>0.0</td>\n",
       "      <td>99.061898</td>\n",
       "      <td>2</td>\n",
       "      <td>2</td>\n",
       "      <td>1</td>\n",
       "    </tr>\n",
       "    <tr>\n",
       "      <th>3</th>\n",
       "      <td>0.198</td>\n",
       "      <td>16068</td>\n",
       "      <td>11.724320</td>\n",
       "      <td>0.0</td>\n",
       "      <td>0.0</td>\n",
       "      <td>0.0</td>\n",
       "      <td>99.000000</td>\n",
       "      <td>11</td>\n",
       "      <td>2</td>\n",
       "      <td>0</td>\n",
       "    </tr>\n",
       "    <tr>\n",
       "      <th>4</th>\n",
       "      <td>0.041</td>\n",
       "      <td>10591</td>\n",
       "      <td>12.206173</td>\n",
       "      <td>1.0</td>\n",
       "      <td>0.0</td>\n",
       "      <td>0.0</td>\n",
       "      <td>99.170000</td>\n",
       "      <td>14</td>\n",
       "      <td>1</td>\n",
       "      <td>0</td>\n",
       "    </tr>\n",
       "  </tbody>\n",
       "</table>\n",
       "</div>"
      ],
      "text/plain": [
       "   perc_premium_paid_by_cash_credit  age_in_days     Income  \\\n",
       "0                             0.001        27384  10.842518   \n",
       "1                             0.124        23735  12.560736   \n",
       "2                             1.000        17170  12.133663   \n",
       "3                             0.198        16068  11.724320   \n",
       "4                             0.041        10591  12.206173   \n",
       "\n",
       "   Count_3-6_months_late  Count_6-12_months_late  \\\n",
       "0                    0.0                     0.0   \n",
       "1                    0.0                     0.0   \n",
       "2                    0.0                     0.0   \n",
       "3                    0.0                     0.0   \n",
       "4                    1.0                     0.0   \n",
       "\n",
       "   Count_more_than_12_months_late  application_underwriting_score  \\\n",
       "0                             0.0                       99.890000   \n",
       "1                             0.0                       98.930000   \n",
       "2                             0.0                       99.061898   \n",
       "3                             0.0                       99.000000   \n",
       "4                             0.0                       99.170000   \n",
       "\n",
       "   no_of_premiums_paid sourcing_channel residence_area_type  \n",
       "0                    7                1                   0  \n",
       "1                   19                1                   1  \n",
       "2                    2                2                   1  \n",
       "3                   11                2                   0  \n",
       "4                   14                1                   0  "
      ]
     },
     "execution_count": 264,
     "metadata": {},
     "output_type": "execute_result"
    }
   ],
   "source": [
    "pred.head()"
   ]
  },
  {
   "cell_type": "code",
   "execution_count": null,
   "metadata": {},
   "outputs": [],
   "source": []
  }
 ],
 "metadata": {
  "kernelspec": {
   "display_name": "Python 3",
   "language": "python",
   "name": "python3"
  },
  "language_info": {
   "codemirror_mode": {
    "name": "ipython",
    "version": 3
   },
   "file_extension": ".py",
   "mimetype": "text/x-python",
   "name": "python",
   "nbconvert_exporter": "python",
   "pygments_lexer": "ipython3",
   "version": "3.7.1"
  }
 },
 "nbformat": 4,
 "nbformat_minor": 2
}
